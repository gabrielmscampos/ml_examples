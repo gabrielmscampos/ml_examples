{
 "cells": [
  {
   "cell_type": "code",
   "execution_count": 1,
   "metadata": {},
   "outputs": [],
   "source": [
    "import os\n",
    "\n",
    "import numpy as np\n",
    "import lightgbm as lgb\n",
    "import matplotlib.pyplot as plt\n",
    "import seaborn as sn\n",
    "from sklearn.preprocessing import MinMaxScaler\n",
    "from sklearn.model_selection import train_test_split\n",
    "from sklearn.metrics import classification_report, accuracy_score, confusion_matrix"
   ]
  },
  {
   "cell_type": "code",
   "execution_count": 2,
   "metadata": {},
   "outputs": [],
   "source": [
    "data_values = np.load(\"../data/data.npy\")\n",
    "label_data = np.load(\"../data/label.npy\")"
   ]
  },
  {
   "cell_type": "code",
   "execution_count": 3,
   "metadata": {},
   "outputs": [],
   "source": [
    "scaler = MinMaxScaler()\n",
    "scaler.fit(data_values)\n",
    "norm_values = scaler.transform(data_values)\n",
    "x_train, x_val, y_train, y_val = train_test_split(norm_values, label_data, test_size=0.25)"
   ]
  },
  {
   "cell_type": "code",
   "execution_count": 4,
   "metadata": {},
   "outputs": [],
   "source": [
    "train_data = lgb.Dataset(x_train, label=y_train)\n",
    "val_data = lgb.Dataset(x_val, label=y_val)"
   ]
  },
  {
   "cell_type": "code",
   "execution_count": 5,
   "metadata": {},
   "outputs": [
    {
     "name": "stdout",
     "output_type": "stream",
     "text": [
      "[LightGBM] [Info] [cross_entropy:Init]: (objective) labels passed interval [0, 1] check\n",
      "[LightGBM] [Info] [cross_entropy:Init]: (metric) labels passed interval [0, 1] check\n",
      "[LightGBM] [Info] [cross_entropy:Init]: sum-of-weights = 10347.000000\n",
      "[LightGBM] [Info] Auto-choosing row-wise multi-threading, the overhead of testing was 0.001311 seconds.\n",
      "You can set `force_row_wise=true` to remove the overhead.\n",
      "And if memory is not enough, you can set `force_col_wise=true`.\n",
      "[LightGBM] [Info] Total Bins 1334\n",
      "[LightGBM] [Info] Number of data points in the train set: 10347, number of used features: 30\n",
      "[LightGBM] [Info] [cross_entropy:Init]: (metric) labels passed interval [0, 1] check\n",
      "[LightGBM] [Info] [cross_entropy:Init]: sum-of-weights = 3450.000000\n",
      "[LightGBM] [Info] [cross_entropy:BoostFromScore]: pavg = 0.825940 -> initscore = 1.557121\n",
      "[LightGBM] [Info] Start training from score 1.557121\n"
     ]
    }
   ],
   "source": [
    "param = {\n",
    "    'learning_rate': 0.1,\n",
    "    'max_depth': 2,\n",
    "    'num_threads': 4,\n",
    "    'objective': 'cross_entropy'\n",
    "}\n",
    "bst = lgb.train(param, train_data, 10, valid_sets=[val_data])"
   ]
  },
  {
   "cell_type": "code",
   "execution_count": 6,
   "metadata": {},
   "outputs": [
    {
     "data": {
      "text/plain": [
       "array([0.918796, 0.918796, 0.918796, ..., 0.918796, 0.918796, 0.918796])"
      ]
     },
     "execution_count": 6,
     "metadata": {},
     "output_type": "execute_result"
    }
   ],
   "source": [
    "preds = bst.predict(x_val)\n",
    "preds"
   ]
  },
  {
   "cell_type": "code",
   "execution_count": 7,
   "metadata": {},
   "outputs": [],
   "source": [
    "preds = np.where(preds > 0.5, 1, 00)"
   ]
  },
  {
   "cell_type": "code",
   "execution_count": 8,
   "metadata": {},
   "outputs": [
    {
     "name": "stdout",
     "output_type": "stream",
     "text": [
      "              precision    recall  f1-score   support\n",
      "\n",
      "         0.0       0.95      0.39      0.55       621\n",
      "         1.0       0.88      1.00      0.93      2829\n",
      "\n",
      "    accuracy                           0.89      3450\n",
      "   macro avg       0.91      0.69      0.74      3450\n",
      "weighted avg       0.89      0.89      0.87      3450\n",
      "\n",
      "Accuracy Score:  0.8860869565217391\n"
     ]
    }
   ],
   "source": [
    "print(classification_report(y_val, preds))\n",
    "print(\"Accuracy Score: \", accuracy_score(y_val, preds))"
   ]
  },
  {
   "cell_type": "code",
   "execution_count": 9,
   "metadata": {},
   "outputs": [
    {
     "data": {
      "image/png": "[encoded data removed]",
      "text/plain": [
       "<Figure size 600x600 with 2 Axes>"
      ]
     },
     "metadata": {},
     "output_type": "display_data"
    }
   ],
   "source": [
    "conf_matrix = confusion_matrix(y_val, preds)\n",
    "\n",
    "plt.figure(figsize =(6, 6)) \n",
    "sn.heatmap(conf_matrix, annot=True, fmt=\"d\"); \n",
    "plt.title(\"Confusion matrix\") \n",
    "plt.ylabel('True class')\n",
    "plt.xlabel('Predicted class') \n",
    "plt.show()"
   ]
  },
  {
   "cell_type": "code",
   "execution_count": 10,
   "metadata": {},
   "outputs": [
    {
     "data": {
      "text/plain": [
       "<lightgbm.basic.Booster at 0x7fb598503cd0>"
      ]
     },
     "execution_count": 10,
     "metadata": {},
     "output_type": "execute_result"
    }
   ],
   "source": [
    "os.makedirs(\"../models/lightgbm\", exist_ok=True)\n",
    "bst.save_model('../models/lightgbm/0001.txt')"
   ]
  },
  {
   "cell_type": "code",
   "execution_count": null,
   "metadata": {},
   "outputs": [],
   "source": []
  }
 ],
 "metadata": {
  "kernelspec": {
   "display_name": "ml-examples-EfRPkUGI-py3.11",
   "language": "python",
   "name": "python3"
  },
  "language_info": {
   "codemirror_mode": {
    "name": "ipython",
    "version": 3
   },
   "file_extension": ".py",
   "mimetype": "text/x-python",
   "name": "python",
   "nbconvert_exporter": "python",
   "pygments_lexer": "ipython3",
   "version": "3.11.10"
  }
 },
 "nbformat": 4,
 "nbformat_minor": 2
}
