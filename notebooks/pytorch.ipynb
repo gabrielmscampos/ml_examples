{
 "cells": [
  {
   "cell_type": "code",
   "execution_count": 1,
   "metadata": {},
   "outputs": [],
   "source": [
    "import os\n",
    "\n",
    "import numpy as np\n",
    "import torch\n",
    "import matplotlib.pyplot as plt\n",
    "from torch.utils.data import DataLoader"
   ]
  },
  {
   "cell_type": "code",
   "execution_count": 2,
   "metadata": {},
   "outputs": [],
   "source": [
    "class PreprocessingLayer(torch.nn.Module):\n",
    "    def forward(self, inputs: torch.Tensor):\n",
    "        min_val = inputs.min(axis=0).values\n",
    "        max_val = inputs.max(axis=0).values\n",
    "        normalized_inputs = torch.where(\n",
    "            (max_val - min_val) != 0,\n",
    "            (inputs - min_val) / (max_val - min_val + 1e-8),\n",
    "            torch.zeros_like(inputs)\n",
    "        )\n",
    "        return normalized_inputs"
   ]
  },
  {
   "cell_type": "code",
   "execution_count": 3,
   "metadata": {},
   "outputs": [],
   "source": [
    "class Autoencoder(torch.nn.Module):\n",
    "    def __init__(self, input_shape: tuple[int], l2_lambda: float):\n",
    "        super().__init__()\n",
    "        self.l2_lambda = torch.tensor(l2_lambda)\n",
    "        self.prep_layer = PreprocessingLayer()\n",
    "        self.encoder1 = torch.nn.Linear(input_shape[0], 18)\n",
    "        self.encoder1_activation = torch.nn.ReLU()\n",
    "        self.encoder2 = torch.nn.Linear(18, 8)\n",
    "        self.encoder2_activation = torch.nn.Sigmoid()\n",
    "        self.decoder = torch.nn.Sequential(\n",
    "            torch.nn.Linear(8, 18),\n",
    "            torch.nn.Sigmoid(),\n",
    "            torch.nn.Linear(18, input_shape[0]),\n",
    "            torch.nn.Sigmoid()\n",
    "        )\n",
    "        self.mse_loss = torch.nn.MSELoss(reduction='none')\n",
    "\n",
    "    def forward(self, x):\n",
    "        prep = self.prep_layer(x)\n",
    "        encoded = self.encoder1(prep)\n",
    "        encoded = self.encoder1_activation(encoded)\n",
    "        l2_activity_loss = self.l2_lambda * torch.sum(encoded ** 2)\n",
    "        encoded = self.encoder2(encoded)\n",
    "        encoded = self.encoder2_activation(encoded)\n",
    "        decoded = self.decoder(encoded)\n",
    "        mse = self.mse_loss(prep, decoded)\n",
    "        avg_mse_per_input = torch.mean(mse, dim=1)\n",
    "        return decoded, avg_mse_per_input, l2_activity_loss\n",
    "    \n",
    "    def fit(self, inputs: np.ndarray, batch_size: int, epochs: int, optimizer, criterion):\n",
    "        inputs = torch.tensor(inputs.astype(np.float32))\n",
    "        targets = PreprocessingLayer()(inputs)\n",
    "        batched_data = DataLoader(targets, batch_size=batch_size, shuffle=True)\n",
    "        batch_steps = len(batched_data)\n",
    "        training_loss = []\n",
    "\n",
    "        for epoch in range(epochs):\n",
    "            self.train()\n",
    "            epoch_decoder_losses = []\n",
    "            epoch_total_losses = []\n",
    "            for idx, batch in enumerate(batched_data):\n",
    "                # Forward pass\n",
    "                decoded, _, l2_loss = self(batch)\n",
    "                loss = criterion(batch, decoded)\n",
    "                loss_value = loss.item()\n",
    "                epoch_decoder_losses.append(loss_value)\n",
    "\n",
    "                # Compute total loss\n",
    "                total_loss = loss + l2_loss\n",
    "                total_loss_value = total_loss.item()  # This slows down the code if using GPU, since we convert this value from CUDA to a python float\n",
    "                epoch_total_losses.append(total_loss_value)\n",
    "                \n",
    "                # Backward pass and optimization\n",
    "                optimizer.zero_grad()\n",
    "                total_loss.backward()\n",
    "                optimizer.step()\n",
    "\n",
    "                # print(f\"Epoch [{epoch + 1}/{epochs}], Step [{idx + 1}/{batch_steps}], decoder loss: {loss_value:.4f}, encoder1_activation l2 loss: {l2_loss:.4f}, total loss: {total_loss_value:.4f}\")\n",
    "\n",
    "            epoch_decoder_avg_loss = np.array(epoch_decoder_losses).mean()\n",
    "            epoch_total_avg_loss = np.array(epoch_total_losses).mean()\n",
    "            training_loss.append(epoch_total_avg_loss)\n",
    "\n",
    "            print(f\"Epoch [{epoch + 1}/{epochs}] (avg {batch_steps} steps), decoder loss: {epoch_decoder_avg_loss:.4f}, total loss: {epoch_total_avg_loss:.4f}\")\n",
    "        \n",
    "        return training_loss"
   ]
  },
  {
   "cell_type": "code",
   "execution_count": 4,
   "metadata": {},
   "outputs": [],
   "source": [
    "class InferenceAutoencoder(Autoencoder):\n",
    "    def forward(self, x):\n",
    "        prep = self.prep_layer(x)\n",
    "        encoded = self.encoder1(prep)\n",
    "        encoded = self.encoder1_activation(encoded)\n",
    "        encoded = self.encoder2(encoded)\n",
    "        encoded = self.encoder2_activation(encoded)\n",
    "        decoded = self.decoder(encoded)\n",
    "        mse = self.mse_loss(prep, decoded)\n",
    "        return torch.mean(mse, dim=1)  # Only return mse loss"
   ]
  },
  {
   "cell_type": "code",
   "execution_count": 5,
   "metadata": {},
   "outputs": [
    {
     "data": {
      "text/plain": [
       "array([[1940., 1987.,  670., ...,    0.,    0.,    0.],\n",
       "       [1869., 1872.,  714., ...,    0.,    0.,    0.],\n",
       "       [1819., 1924.,  672., ...,    0.,    0.,    0.],\n",
       "       ...,\n",
       "       [ 987.,  745.,  264., ...,    0.,    0.,    0.],\n",
       "       [ 978.,  794.,  201., ...,    0.,    0.,    0.],\n",
       "       [ 924.,  743.,  234., ...,    0.,    0.,    0.]])"
      ]
     },
     "execution_count": 5,
     "metadata": {},
     "output_type": "execute_result"
    }
   ],
   "source": [
    "train_data = np.load(\"../data/data.npy\")\n",
    "train_label = np.load(\"../data/label.npy\")\n",
    "\n",
    "# We want to feed the Autoencoder with GOOD data, so we filter the data by the label == 1\n",
    "train_data = train_data[train_label == 1]\n",
    "train_data"
   ]
  },
  {
   "cell_type": "code",
   "execution_count": 6,
   "metadata": {},
   "outputs": [],
   "source": [
    "ae = Autoencoder(input_shape=(51,), l2_lambda=1e-4)\n",
    "criterion = torch.nn.MSELoss()\n",
    "optimizer = torch.optim.Adam(ae.parameters(), lr=0.001, eps=1e-07)"
   ]
  },
  {
   "cell_type": "code",
   "execution_count": 7,
   "metadata": {},
   "outputs": [
    {
     "name": "stdout",
     "output_type": "stream",
     "text": [
      "Epoch [1/20] (avg 89 steps), decoder loss: 0.1486, total loss: 0.1493\n",
      "Epoch [2/20] (avg 89 steps), decoder loss: 0.0449, total loss: 0.0449\n",
      "Epoch [3/20] (avg 89 steps), decoder loss: 0.0173, total loss: 0.0173\n",
      "Epoch [4/20] (avg 89 steps), decoder loss: 0.0102, total loss: 0.0102\n",
      "Epoch [5/20] (avg 89 steps), decoder loss: 0.0076, total loss: 0.0076\n",
      "Epoch [6/20] (avg 89 steps), decoder loss: 0.0063, total loss: 0.0063\n",
      "Epoch [7/20] (avg 89 steps), decoder loss: 0.0056, total loss: 0.0056\n",
      "Epoch [8/20] (avg 89 steps), decoder loss: 0.0052, total loss: 0.0052\n",
      "Epoch [9/20] (avg 89 steps), decoder loss: 0.0049, total loss: 0.0049\n",
      "Epoch [10/20] (avg 89 steps), decoder loss: 0.0047, total loss: 0.0047\n",
      "Epoch [11/20] (avg 89 steps), decoder loss: 0.0046, total loss: 0.0046\n",
      "Epoch [12/20] (avg 89 steps), decoder loss: 0.0045, total loss: 0.0045\n",
      "Epoch [13/20] (avg 89 steps), decoder loss: 0.0044, total loss: 0.0044\n",
      "Epoch [14/20] (avg 89 steps), decoder loss: 0.0043, total loss: 0.0043\n",
      "Epoch [15/20] (avg 89 steps), decoder loss: 0.0043, total loss: 0.0043\n",
      "Epoch [16/20] (avg 89 steps), decoder loss: 0.0042, total loss: 0.0042\n",
      "Epoch [17/20] (avg 89 steps), decoder loss: 0.0042, total loss: 0.0042\n",
      "Epoch [18/20] (avg 89 steps), decoder loss: 0.0042, total loss: 0.0042\n",
      "Epoch [19/20] (avg 89 steps), decoder loss: 0.0041, total loss: 0.0041\n",
      "Epoch [20/20] (avg 89 steps), decoder loss: 0.0041, total loss: 0.0041\n"
     ]
    }
   ],
   "source": [
    "training_loss = ae.fit(train_data, 128, 20, optimizer, criterion)"
   ]
  },
  {
   "cell_type": "code",
   "execution_count": 8,
   "metadata": {},
   "outputs": [
    {
     "data": {
      "image/png": "[encoded data removed]",
      "text/plain": [
       "<Figure size 640x480 with 1 Axes>"
      ]
     },
     "metadata": {},
     "output_type": "display_data"
    }
   ],
   "source": [
    "plt.plot(training_loss, label=\"Loss\")\n",
    "plt.legend()\n",
    "plt.show()"
   ]
  },
  {
   "cell_type": "code",
   "execution_count": 9,
   "metadata": {},
   "outputs": [
    {
     "data": {
      "text/plain": [
       "(tensor([[0.6653, 0.5968, 0.4688,  ..., 0.0168, 0.0168, 0.0133],\n",
       "         [0.6653, 0.5968, 0.4688,  ..., 0.0168, 0.0168, 0.0133],\n",
       "         [0.6653, 0.5968, 0.4688,  ..., 0.0168, 0.0168, 0.0133],\n",
       "         ...,\n",
       "         [0.6653, 0.5968, 0.4688,  ..., 0.0168, 0.0168, 0.0133],\n",
       "         [0.6653, 0.5968, 0.4688,  ..., 0.0168, 0.0168, 0.0133],\n",
       "         [0.6653, 0.5968, 0.4688,  ..., 0.0168, 0.0168, 0.0133]],\n",
       "        grad_fn=<SigmoidBackward0>),\n",
       " tensor([0.0063, 0.0057, 0.0052,  ..., 0.0025, 0.0029, 0.0030],\n",
       "        grad_fn=<MeanBackward1>),\n",
       " tensor(0.0002, grad_fn=<MulBackward0>))"
      ]
     },
     "execution_count": 9,
     "metadata": {},
     "output_type": "execute_result"
    }
   ],
   "source": [
    "ae(torch.tensor(train_data.astype(np.float32)))"
   ]
  },
  {
   "cell_type": "code",
   "execution_count": 10,
   "metadata": {},
   "outputs": [
    {
     "data": {
      "text/plain": [
       "<All keys matched successfully>"
      ]
     },
     "execution_count": 10,
     "metadata": {},
     "output_type": "execute_result"
    }
   ],
   "source": [
    "iae = InferenceAutoencoder(input_shape=(51,), l2_lambda=1e-4)\n",
    "iae.load_state_dict(ae.state_dict())"
   ]
  },
  {
   "cell_type": "code",
   "execution_count": 13,
   "metadata": {},
   "outputs": [],
   "source": [
    "mse = iae(torch.tensor(train_data.astype(np.float32)))\n",
    "mse = mse.detach().numpy()"
   ]
  },
  {
   "cell_type": "code",
   "execution_count": 16,
   "metadata": {},
   "outputs": [
    {
     "data": {
      "image/png": "[encoded data removed]",
      "text/plain": [
       "<Figure size 640x480 with 1 Axes>"
      ]
     },
     "metadata": {},
     "output_type": "display_data"
    },
    {
     "data": {
      "image/png": "[encoded data removed]",
      "text/plain": [
       "<Figure size 640x480 with 1 Axes>"
      ]
     },
     "metadata": {},
     "output_type": "display_data"
    }
   ],
   "source": [
    "plt.hist(mse, bins=120, label=\"MSE\")\n",
    "plt.legend()\n",
    "plt.show()\n",
    "plt.close()\n",
    "\n",
    "plt.hist(mse[mse > 0.03], bins=120, label=\"MSE > 0.03\")\n",
    "plt.legend()\n",
    "plt.show()\n",
    "plt.close()"
   ]
  },
  {
   "cell_type": "code",
   "execution_count": null,
   "metadata": {},
   "outputs": [],
   "source": [
    "os.makedirs(\"../models/torch\", exist_ok=True)\n",
    "\n",
    "model_path = \"../models/torch/state_dict.pth\"\n",
    "torch.save(iae.state_dict(), model_path)"
   ]
  },
  {
   "cell_type": "code",
   "execution_count": null,
   "metadata": {},
   "outputs": [],
   "source": []
  }
 ],
 "metadata": {
  "kernelspec": {
   "display_name": "ml-examples-EfRPkUGI-py3.11",
   "language": "python",
   "name": "python3"
  },
  "language_info": {
   "codemirror_mode": {
    "name": "ipython",
    "version": 3
   },
   "file_extension": ".py",
   "mimetype": "text/x-python",
   "name": "python",
   "nbconvert_exporter": "python",
   "pygments_lexer": "ipython3",
   "version": "3.11.10"
  }
 },
 "nbformat": 4,
 "nbformat_minor": 2
}
